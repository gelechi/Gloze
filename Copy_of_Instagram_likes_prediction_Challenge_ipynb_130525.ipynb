{
  "cells": [
    {
      "cell_type": "markdown",
      "metadata": {
        "id": "view-in-github",
        "colab_type": "text"
      },
      "source": [
        "<a href=\"https://colab.research.google.com/github/gelechi/Gloze/blob/main/Copy_of_Instagram_likes_prediction_Challenge_ipynb_130525.ipynb\" target=\"_parent\"><img src=\"https://colab.research.google.com/assets/colab-badge.svg\" alt=\"Open In Colab\"/></a>"
      ]
    },
    {
      "cell_type": "markdown",
      "id": "Zchjgvf5m4ZJ",
      "metadata": {
        "id": "Zchjgvf5m4ZJ"
      },
      "source": [
        " ![Emil](data:image/png;base64,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)"
      ]
    },
    {
      "cell_type": "markdown",
      "id": "0608cf0e-a74c-4665-9abf-a7feb61f7e52",
      "metadata": {
        "id": "0608cf0e-a74c-4665-9abf-a7feb61f7e52"
      },
      "source": [
        "# Instagram likes prediction\n",
        "\n",
        "In this challenge, we'll be taking Linear Regression further by seeing if we can predict some metrics from social media!\n",
        "\n",
        "Let's get started!"
      ]
    },
    {
      "cell_type": "markdown",
      "id": "da21f0ca-d69c-47f9-8a8c-a532fc9150f0",
      "metadata": {
        "id": "da21f0ca-d69c-47f9-8a8c-a532fc9150f0"
      },
      "source": [
        "## Data Exploration"
      ]
    },
    {
      "cell_type": "markdown",
      "id": "nQc_-mdHkyar",
      "metadata": {
        "id": "nQc_-mdHkyar"
      },
      "source": [
        "a) Download the [dataset](https://drive.google.com/file/d/1O8ey3uytjqzRUQXTnmXkiqGBoa6lne1C/view?usp=sharing) and upload it to Google Colab. Execute the cell below to load data in a `posts` dataframe. One row of this dataset represents an Instagram post. Pay attention to the compression format of the file!"
      ]
    },
    {
      "cell_type": "code",
      "execution_count": null,
      "id": "a8862d90-4d9d-4d2b-af38-9c56a0bd6ce4",
      "metadata": {
        "id": "a8862d90-4d9d-4d2b-af38-9c56a0bd6ce4"
      },
      "outputs": [],
      "source": [
        "# your code here"
      ]
    },
    {
      "cell_type": "code",
      "execution_count": null,
      "id": "3b5dc9cd",
      "metadata": {
        "id": "3b5dc9cd"
      },
      "outputs": [],
      "source": [
        "# your code here"
      ]
    },
    {
      "cell_type": "markdown",
      "id": "51e96e22-4525-4b9d-8977-fd96be9ce0f2",
      "metadata": {
        "id": "51e96e22-4525-4b9d-8977-fd96be9ce0f2"
      },
      "source": [
        "b) Column `id` designates the author. How many **unique** authors do we have ?"
      ]
    },
    {
      "cell_type": "code",
      "execution_count": null,
      "id": "ae6dec7a-aab7-40da-9318-3d5f40cd7c7e",
      "metadata": {
        "id": "ae6dec7a-aab7-40da-9318-3d5f40cd7c7e"
      },
      "outputs": [],
      "source": [
        "# your code here"
      ]
    },
    {
      "cell_type": "markdown",
      "id": "UmqAVz9xnO6z",
      "metadata": {
        "id": "UmqAVz9xnO6z"
      },
      "source": [
        "c) Sort `df_posts` by **ascending date**."
      ]
    },
    {
      "cell_type": "code",
      "execution_count": null,
      "id": "bygzAgYynW5N",
      "metadata": {
        "id": "bygzAgYynW5N"
      },
      "outputs": [],
      "source": [
        "# your code here"
      ]
    },
    {
      "cell_type": "markdown",
      "id": "5aaf8614-859b-4b6d-a999-f34768893e19",
      "metadata": {
        "id": "5aaf8614-859b-4b6d-a999-f34768893e19"
      },
      "source": [
        "d) This dataset contains several posts for the same author.\n",
        "\n",
        "By using the pandas function `drop_duplicates()` with parameter `keep=last`, **keep only the last post** made by each author.\n",
        "\n",
        "This should leave you with a dataframe with as many rows as unique authors!"
      ]
    },
    {
      "cell_type": "code",
      "execution_count": null,
      "id": "64377c38-f734-4bc2-a74f-9ebc79e95ad0",
      "metadata": {
        "id": "64377c38-f734-4bc2-a74f-9ebc79e95ad0"
      },
      "outputs": [],
      "source": [
        "# your code here"
      ]
    },
    {
      "cell_type": "markdown",
      "id": "bcf974dc-178f-4f44-9918-004fc363e42d",
      "metadata": {
        "id": "bcf974dc-178f-4f44-9918-004fc363e42d"
      },
      "source": [
        "e) Use Plotly to draw a scatter plot between likes and followers. Do you see any **correlation**?\n"
      ]
    },
    {
      "cell_type": "code",
      "execution_count": null,
      "id": "e2c1a83f-5b00-4844-ba01-ec82aafc0932",
      "metadata": {
        "id": "e2c1a83f-5b00-4844-ba01-ec82aafc0932"
      },
      "outputs": [],
      "source": [
        "# your code here"
      ]
    },
    {
      "cell_type": "markdown",
      "id": "8d2fR9vSlJk0",
      "metadata": {
        "id": "8d2fR9vSlJk0"
      },
      "source": [
        "This visual correlation that we see will serve as the intuition for the modelling that we are about to do!"
      ]
    },
    {
      "cell_type": "markdown",
      "id": "7c5281be-e46d-4d87-8b16-52e2f859ebda",
      "metadata": {
        "id": "7c5281be-e46d-4d87-8b16-52e2f859ebda"
      },
      "source": [
        "## Modeling"
      ]
    },
    {
      "cell_type": "markdown",
      "id": "UBopiI25SQR1",
      "metadata": {
        "id": "UBopiI25SQR1"
      },
      "source": [
        "### Preprocessing"
      ]
    },
    {
      "cell_type": "markdown",
      "id": "ubplAaFxpjgJ",
      "metadata": {
        "id": "ubplAaFxpjgJ"
      },
      "source": [
        "a) Isolate the target and the feature!\n",
        "\n",
        "For our first model, we'll start with the feature being the number of followers. The target, as you already know, is the number of likes!\n",
        "\n",
        "**Assign X and y appropriately!**"
      ]
    },
    {
      "cell_type": "code",
      "execution_count": null,
      "id": "zlHEfVY5pJIE",
      "metadata": {
        "id": "zlHEfVY5pJIE"
      },
      "outputs": [],
      "source": [
        "# your code here"
      ]
    },
    {
      "cell_type": "markdown",
      "id": "6897d508-f3c2-48ce-b1cb-575ff03a57e4",
      "metadata": {
        "id": "6897d508-f3c2-48ce-b1cb-575ff03a57e4"
      },
      "source": [
        "b) Remember what we said about the importance of separating data into train and test splits?\n",
        "\n",
        "Split X and y, **80% for training and 20% for testing** into appropriately named variables - X_train, X_test, y_train and y_test.\n",
        "\n",
        "Don't make your life difficult, use the `train_test_split` function!"
      ]
    },
    {
      "cell_type": "code",
      "execution_count": null,
      "id": "ca1087ea-d8e7-4cd5-8555-5c5269128c77",
      "metadata": {
        "id": "ca1087ea-d8e7-4cd5-8555-5c5269128c77"
      },
      "outputs": [],
      "source": [
        "# your code here"
      ]
    },
    {
      "cell_type": "markdown",
      "id": "lB_mq1JBN_vm",
      "metadata": {
        "id": "lB_mq1JBN_vm"
      },
      "source": [
        "c) Now we need to normalize! I know you're excited to apply your new modelling skills, but we first need to make sure the data is scaled!\n",
        "\n",
        "Scale X_train and X_test - remember to only fit the scaler on X_train and to transform X_train and X_test!\n",
        "\n",
        "Let's use the standard scaler 👍"
      ]
    },
    {
      "cell_type": "code",
      "execution_count": null,
      "id": "5xyHZLzuN_jG",
      "metadata": {
        "id": "5xyHZLzuN_jG"
      },
      "outputs": [],
      "source": [
        "# your code here"
      ]
    },
    {
      "cell_type": "markdown",
      "id": "xVTpUez4ST_h",
      "metadata": {
        "id": "xVTpUez4ST_h"
      },
      "source": [
        "### Linear Regression"
      ]
    },
    {
      "cell_type": "markdown",
      "id": "3fb18f92-55f4-4a00-bb2b-0a15173d7e05",
      "metadata": {
        "id": "3fb18f92-55f4-4a00-bb2b-0a15173d7e05"
      },
      "source": [
        "d) Train a Linear Regression model that predicts likes (our y) based on followers (our X)! Remember to only train it on our **scaled training set**, not on our test set!"
      ]
    },
    {
      "cell_type": "code",
      "execution_count": null,
      "id": "2ec24c72-2ba2-45d7-a65c-aa68fa574d8c",
      "metadata": {
        "id": "2ec24c72-2ba2-45d7-a65c-aa68fa574d8c"
      },
      "outputs": [],
      "source": [
        "# your code here"
      ]
    },
    {
      "cell_type": "markdown",
      "id": "AYMNUTTXSXXF",
      "metadata": {
        "id": "AYMNUTTXSXXF"
      },
      "source": [
        "### Evaluation"
      ]
    },
    {
      "cell_type": "markdown",
      "id": "e63158ea-1982-4467-b620-94c6e6e4fd3e",
      "metadata": {
        "id": "e63158ea-1982-4467-b620-94c6e6e4fd3e"
      },
      "source": [
        "e) What is the R2 score on the train data? What is the MSE (mean squared error)? What about the MAE (mean absolute error)?\n",
        "\n",
        "Do you think our model is performing well?\n",
        "\n",
        "<details>\n",
        "<summary><i>Hint</i></summary>\n",
        "    ⟿  Use `mean_squared_error` and `mean_absolute_error` of module `sklearn.metrics`.\n",
        "</details>"
      ]
    },
    {
      "cell_type": "code",
      "execution_count": null,
      "id": "7c405aed-b0ef-4a0f-ace8-ff28950e2b43",
      "metadata": {
        "id": "7c405aed-b0ef-4a0f-ace8-ff28950e2b43"
      },
      "outputs": [],
      "source": [
        "# your code here"
      ]
    },
    {
      "cell_type": "markdown",
      "id": "uPdVQ2jpo5vm",
      "metadata": {
        "id": "uPdVQ2jpo5vm"
      },
      "source": [
        "R2 is close to 0, so the model doesn't look very good.\n",
        "MSE is quite difficult to interpret, but MAE is much simpler. Our model has an error of 32 likes on average."
      ]
    },
    {
      "cell_type": "markdown",
      "id": "43068198-1197-4d8a-b324-0d56d237c416",
      "metadata": {
        "id": "43068198-1197-4d8a-b324-0d56d237c416"
      },
      "source": [
        "f) It's time to evaluate our model on test data!\n",
        "\n",
        "Use your model to predict likes for test data and store the predictions in 'pred_model_1'."
      ]
    },
    {
      "cell_type": "code",
      "execution_count": null,
      "id": "bHuAxFZGp1rh",
      "metadata": {
        "id": "bHuAxFZGp1rh"
      },
      "outputs": [],
      "source": [
        "# your code here"
      ]
    },
    {
      "cell_type": "markdown",
      "id": "46707d16-26df-4d71-8660-8dce238f467b",
      "metadata": {
        "id": "46707d16-26df-4d71-8660-8dce238f467b"
      },
      "source": [
        "g) What is R2 score value on test data? What is the MSE (mean squared error)?\n",
        "\n",
        "Do you think our model is a good one?"
      ]
    },
    {
      "cell_type": "code",
      "execution_count": null,
      "id": "b51948bc-8c97-4d56-8823-3f91e03d090f",
      "metadata": {
        "id": "b51948bc-8c97-4d56-8823-3f91e03d090f"
      },
      "outputs": [],
      "source": [
        "# your code here"
      ]
    },
    {
      "cell_type": "markdown",
      "id": "kVO-Xg1NqVpJ",
      "metadata": {
        "id": "kVO-Xg1NqVpJ"
      },
      "source": [
        "Results are similar, our model is not really good. It was expected because with such simple model, you cannot get very accurate results."
      ]
    },
    {
      "cell_type": "markdown",
      "id": "57322111-1d7d-40a1-bd81-56eb5e307466",
      "metadata": {
        "id": "57322111-1d7d-40a1-bd81-56eb5e307466"
      },
      "source": [
        "h) We will try to add one feature to our model.\n",
        "\n",
        "What does this code do?"
      ]
    },
    {
      "cell_type": "code",
      "execution_count": null,
      "id": "9b46aecd-a3b4-4160-9f4f-382f4617a2a5",
      "metadata": {
        "id": "9b46aecd-a3b4-4160-9f4f-382f4617a2a5"
      },
      "outputs": [],
      "source": [
        "# load data\n",
        "archive = pd.read_csv('posts.csv.bz', compression='bz2')\n",
        "\n",
        "# sort values by date\n",
        "archive = archive.sort_values(by='ts', ascending=True)\n",
        "\n",
        "# keep only most recent posts\n",
        "most_recent_posts = archive.drop_duplicates('id', keep='last')\n",
        "\n",
        "# keep from archive every posts except most recent\n",
        "posts_wo_most_recent = archive[~archive.index.isin(most_recent_posts.index)]\n",
        "\n",
        "# compute median of likes on previous posts\n",
        "median_last_posts = posts_wo_most_recent.groupby('id', as_index=False)[['likes']].median()\n",
        "\n",
        "# rename column likes by historical_likes\n",
        "median_last_posts = median_last_posts.rename({'likes': 'historical_likes'}, axis=1)\n",
        "\n",
        "# merge this colum to initial dataframe\n",
        "df_posts_new = most_recent_posts.merge(median_last_posts, on=\"id\")"
      ]
    },
    {
      "cell_type": "markdown",
      "id": "hBkCXgJRsYAp",
      "metadata": {
        "id": "hBkCXgJRsYAp"
      },
      "source": [
        "i) Have a look at `df_posts_new` to understand what the previous code did!"
      ]
    },
    {
      "cell_type": "code",
      "execution_count": null,
      "id": "ZmodSnqfsXeg",
      "metadata": {
        "id": "ZmodSnqfsXeg"
      },
      "outputs": [],
      "source": [
        "# your code here"
      ]
    },
    {
      "cell_type": "markdown",
      "id": "7FmybJDWslDs",
      "metadata": {
        "id": "7FmybJDWslDs"
      },
      "source": [
        "j) Let's start all over, but now X is **followers and historical likes**.\n",
        "\n",
        "Split X and y!"
      ]
    },
    {
      "cell_type": "code",
      "execution_count": null,
      "id": "Yp1SrjFVsygA",
      "metadata": {
        "id": "Yp1SrjFVsygA"
      },
      "outputs": [],
      "source": [
        "# your code here"
      ]
    },
    {
      "cell_type": "markdown",
      "id": "bZ5RTNGps8N4",
      "metadata": {
        "id": "bZ5RTNGps8N4"
      },
      "source": [
        "k) Split into train and test split!"
      ]
    },
    {
      "cell_type": "code",
      "execution_count": null,
      "id": "5ZeL3ETStA-G",
      "metadata": {
        "id": "5ZeL3ETStA-G"
      },
      "outputs": [],
      "source": [
        "# your code here"
      ]
    },
    {
      "cell_type": "markdown",
      "id": "WaiPVJk_tEkK",
      "metadata": {
        "id": "WaiPVJk_tEkK"
      },
      "source": [
        "l) Scale!"
      ]
    },
    {
      "cell_type": "code",
      "execution_count": null,
      "id": "dBywkH80tGft",
      "metadata": {
        "id": "dBywkH80tGft"
      },
      "outputs": [],
      "source": [
        "# your code here"
      ]
    },
    {
      "cell_type": "markdown",
      "id": "r9UDFNJ5tLVD",
      "metadata": {
        "id": "r9UDFNJ5tLVD"
      },
      "source": [
        "m) Time to train a new model!\n",
        "\n",
        "Train a new linear regression with our new `X_train_scaled`!"
      ]
    },
    {
      "cell_type": "code",
      "execution_count": null,
      "id": "vsQvW9FftUTa",
      "metadata": {
        "id": "vsQvW9FftUTa"
      },
      "outputs": [],
      "source": [
        "# your code here"
      ]
    },
    {
      "cell_type": "markdown",
      "id": "abb0ef7c-f491-4462-9563-a8f9fba85f47",
      "metadata": {
        "id": "abb0ef7c-f491-4462-9563-a8f9fba85f47"
      },
      "source": [
        "i) Calculate R2, MSE and MAE on the test data. What do you think of this new model?"
      ]
    },
    {
      "cell_type": "code",
      "execution_count": null,
      "id": "9698b2c0-77d6-4156-8365-a09d08ed85fc",
      "metadata": {
        "id": "9698b2c0-77d6-4156-8365-a09d08ed85fc"
      },
      "outputs": [],
      "source": [
        "# your code here"
      ]
    },
    {
      "cell_type": "markdown",
      "id": "IBddOWz_tfhu",
      "metadata": {
        "id": "IBddOWz_tfhu"
      },
      "source": [
        "This model is better, with an average error of around 23 likes.\n",
        "R2 is much better than the previous model."
      ]
    }
  ],
  "metadata": {
    "colab": {
      "collapsed_sections": [
        "da21f0ca-d69c-47f9-8a8c-a532fc9150f0"
      ],
      "provenance": [],
      "include_colab_link": true
    },
    "kernelspec": {
      "display_name": "Python 3",
      "language": "python",
      "name": "python3"
    },
    "language_info": {
      "codemirror_mode": {
        "name": "ipython",
        "version": 3
      },
      "file_extension": ".py",
      "mimetype": "text/x-python",
      "name": "python",
      "nbconvert_exporter": "python",
      "pygments_lexer": "ipython3",
      "version": "3.9.5"
    }
  },
  "nbformat": 4,
  "nbformat_minor": 5
}