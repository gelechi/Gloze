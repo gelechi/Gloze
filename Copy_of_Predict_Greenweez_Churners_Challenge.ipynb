{
  "cells": [
    {
      "cell_type": "markdown",
      "metadata": {
        "id": "view-in-github",
        "colab_type": "text"
      },
      "source": [
        "<a href=\"https://colab.research.google.com/github/gelechi/Gloze/blob/main/Copy_of_Predict_Greenweez_Churners_Challenge.ipynb\" target=\"_parent\"><img src=\"https://colab.research.google.com/assets/colab-badge.svg\" alt=\"Open In Colab\"/></a>"
      ]
    },
    {
      "cell_type": "markdown",
      "id": "Ml-2oN64D9qf",
      "metadata": {
        "id": "Ml-2oN64D9qf"
      },
      "source": [
        " ![Emil](data:image/png;base64,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)"
      ]
    },
    {
      "cell_type": "markdown",
      "id": "df02a1b8",
      "metadata": {
        "id": "df02a1b8"
      },
      "source": [
        "# Predict Greenweez Churners\n"
      ]
    },
    {
      "cell_type": "markdown",
      "id": "d13aab03",
      "metadata": {
        "ExecuteTime": {
          "end_time": "2022-11-27T16:48:36.870811Z",
          "start_time": "2022-11-27T16:48:36.841932Z"
        },
        "id": "d13aab03"
      },
      "source": [
        "In this challenge were are going to look at the Greenweez client database!\n",
        "\n",
        "We want to find out who amongst our existing database of clients will reconvert 🔁 (ie. make a second purchase) within 3 months.\n",
        "\n",
        "**Our data**\n",
        "\n",
        "➡️ We have access to the sales from 2019 to 2021.\n",
        "\n",
        "➡️ Let's take a look\n"
      ]
    },
    {
      "cell_type": "markdown",
      "id": "36da60c0",
      "metadata": {
        "id": "36da60c0"
      },
      "source": [
        "## Data exploration\n"
      ]
    },
    {
      "cell_type": "markdown",
      "id": "G1WygUtZEWCg",
      "metadata": {
        "id": "G1WygUtZEWCg"
      },
      "source": [
        "a) Execute the cell below to load our client data into a dataframe variable called `df`."
      ]
    },
    {
      "cell_type": "code",
      "execution_count": null,
      "id": "acdd581b",
      "metadata": {
        "ExecuteTime": {
          "end_time": "2022-11-30T23:54:53.005053Z",
          "start_time": "2022-11-30T23:54:52.913884Z"
        },
        "id": "acdd581b"
      },
      "outputs": [],
      "source": [
        "from google.colab import auth\n",
        "import pandas as pd\n",
        "\n",
        "# Will collect your credentials\n",
        "auth.authenticate_user()\n",
        "\n",
        "# Query Bigquery\n",
        "query = \"SELECT * FROM `data-analytics-bootcamp-363212.course33.gwz_churn`\"\n",
        "project = \"data-analytics-bootcamp-363212\"\n",
        "\n",
        "df = pd.read_gbq(query=query, project_id=project)"
      ]
    },
    {
      "cell_type": "markdown",
      "id": "83XTV3KFFgk4",
      "metadata": {
        "id": "83XTV3KFFgk4"
      },
      "source": [
        "b) Let's take a look at our data.\n",
        "\n",
        "1. As usual, it's useful to first look at the first few rows.\n",
        "2. What's the shape of our data?\n",
        "3. Are there any null values?  \n",
        "4. Given that we are trying to predict 'reconversions', what is our target?"
      ]
    },
    {
      "cell_type": "code",
      "execution_count": null,
      "id": "514458ab",
      "metadata": {
        "ExecuteTime": {
          "end_time": "2022-11-30T23:55:12.438443Z",
          "start_time": "2022-11-30T23:55:12.425133Z"
        },
        "id": "514458ab",
        "scrolled": true
      },
      "outputs": [],
      "source": [
        "# your code here"
      ]
    },
    {
      "cell_type": "code",
      "execution_count": null,
      "id": "25dfd4a6",
      "metadata": {
        "ExecuteTime": {
          "end_time": "2022-11-30T23:55:12.460004Z",
          "start_time": "2022-11-30T23:55:12.443277Z"
        },
        "id": "25dfd4a6"
      },
      "outputs": [],
      "source": [
        "# your code here"
      ]
    },
    {
      "cell_type": "code",
      "execution_count": null,
      "id": "a54bb5d4",
      "metadata": {
        "ExecuteTime": {
          "end_time": "2022-11-30T23:55:12.499203Z",
          "start_time": "2022-11-30T23:55:12.462719Z"
        },
        "id": "a54bb5d4"
      },
      "outputs": [],
      "source": [
        "# your code here"
      ]
    },
    {
      "cell_type": "markdown",
      "id": "6b11d94d",
      "metadata": {
        "id": "6b11d94d"
      },
      "source": [
        "<details>\n",
        "    <summary><i>Answer:</i></summary>\n",
        "     \n",
        "Your DataFrame should be of shape 381398 * 12.\n",
        "    \n",
        "The target is the `re_purchase` column, and the other columns will be your features.\n",
        "    \n",
        "There are no null values in data.\n",
        "</details>        "
      ]
    },
    {
      "cell_type": "markdown",
      "id": "_0bUR-nOG131",
      "metadata": {
        "id": "_0bUR-nOG131"
      },
      "source": [
        "c) What do you think of column `orders_id` for our problem? Is it useful for our analysis?"
      ]
    },
    {
      "cell_type": "markdown",
      "id": "Rg0ZOtuEHEDh",
      "metadata": {
        "id": "Rg0ZOtuEHEDh"
      },
      "source": [
        "<details>\n",
        "    <summary><i>Answer:</i></summary>\n",
        "\n",
        "Orders_id is not useful in this case! It is the unique identifier for the Greenweez database, but doesn't provide any info that we use to predict reconversions.\n",
        "</details>   "
      ]
    },
    {
      "cell_type": "markdown",
      "id": "_G0el8rgHUoI",
      "metadata": {
        "id": "_G0el8rgHUoI"
      },
      "source": [
        "d) Now, delete `orders_id` and `date_date` columns."
      ]
    },
    {
      "cell_type": "code",
      "execution_count": null,
      "id": "vmF8UdegHgXk",
      "metadata": {
        "id": "vmF8UdegHgXk"
      },
      "outputs": [],
      "source": [
        "# your code here"
      ]
    },
    {
      "cell_type": "markdown",
      "id": "6zHUmwf_LjSa",
      "metadata": {
        "id": "6zHUmwf_LjSa"
      },
      "source": [
        "e) Have a look at whether our columns values are on different scales. To do this, use the DataFrame `.describe()` method to compare them.\n",
        "\n",
        "What kind of preprocessing we will have to use ?"
      ]
    },
    {
      "cell_type": "code",
      "execution_count": null,
      "id": "_IxfqLGML1tx",
      "metadata": {
        "id": "_IxfqLGML1tx"
      },
      "outputs": [],
      "source": [
        "# your code here"
      ]
    },
    {
      "cell_type": "markdown",
      "id": "4wKGDYMnL0ns",
      "metadata": {
        "id": "4wKGDYMnL0ns"
      },
      "source": [
        "<details>\n",
        "    <summary><i>Answer:</i></summary>\n",
        "\n",
        "The features are indeed on different scales. For example, total_nb_codes in comparison with avg_basket.\n",
        "\n",
        "As a result, we will need to use a normalization technique.\n",
        "</details>"
      ]
    },
    {
      "cell_type": "markdown",
      "id": "rOlZmrIqH9Tj",
      "metadata": {
        "id": "rOlZmrIqH9Tj"
      },
      "source": [
        "f) Set column `customers_id` as index to keep customer_id information."
      ]
    },
    {
      "cell_type": "code",
      "execution_count": null,
      "id": "QrhlXxlhIbMg",
      "metadata": {
        "id": "QrhlXxlhIbMg"
      },
      "outputs": [],
      "source": [
        "# your code here"
      ]
    },
    {
      "cell_type": "markdown",
      "id": "fe4da756",
      "metadata": {
        "id": "fe4da756"
      },
      "source": [
        "Note that for the sake of the exercise, we've **already preprocessed some of the data for you** 🔧.\n",
        "\n",
        "This means you'll be working on a (relatively) clean database, with your targets and features already formed. In a real-world situation, it's likely that you'll be spending a lot of time forming your target and features from simpler, less-specific data, either using python or SQL to manipulate the database."
      ]
    },
    {
      "cell_type": "markdown",
      "id": "57c4841f",
      "metadata": {
        "id": "57c4841f"
      },
      "source": [
        "## Modeling"
      ]
    },
    {
      "cell_type": "markdown",
      "id": "bc8197ad",
      "metadata": {
        "id": "bc8197ad"
      },
      "source": [
        "Now that we've seen what our data looks like, we need to define our target and features."
      ]
    },
    {
      "cell_type": "markdown",
      "id": "_UZK7pDxI13y",
      "metadata": {
        "id": "_UZK7pDxI13y"
      },
      "source": [
        "a) Split dataset into a train and a test set (this should give you an `X_train`, `X_test`, `y_train` and `y_test`).\n",
        "\n",
        "We will keep a test_size of 20%."
      ]
    },
    {
      "cell_type": "code",
      "execution_count": null,
      "id": "6ed0545e",
      "metadata": {
        "ExecuteTime": {
          "end_time": "2022-11-30T23:55:12.800730Z",
          "start_time": "2022-11-30T23:55:12.758892Z"
        },
        "id": "6ed0545e"
      },
      "outputs": [],
      "source": [
        "from sklearn.model_selection import train_test_split\n",
        "\n",
        "# every columns in X variable except re_purchase which is our target\n",
        "\n",
        "\n",
        "# split data\n",
        "\n",
        "# store customers_ids for after\n",
        "test_customers_ids = X_test.index"
      ]
    },
    {
      "cell_type": "markdown",
      "id": "e_0jFfe1Mbtu",
      "metadata": {
        "id": "e_0jFfe1Mbtu"
      },
      "source": [
        "b) Execute the cell below to apply normalization on our data. We are going to use a StandardScaler for this transformation.\n",
        "\n",
        "*Make sure you understand what this code does.*\n",
        "\n",
        "Why do we use `.fit_transform()` on the train set and `.transform()` on the test set?"
      ]
    },
    {
      "cell_type": "code",
      "execution_count": null,
      "id": "RfYoK3VcLlOa",
      "metadata": {
        "id": "RfYoK3VcLlOa"
      },
      "outputs": [],
      "source": [
        "from sklearn.preprocessing import StandardScaler\n",
        "\n",
        "scaler = StandardScaler()\n",
        "X_train = scaler.fit_transform(X_train)\n",
        "\n",
        "# apply same transformation on X_test\n",
        "X_test = scaler.transform(X_test)"
      ]
    },
    {
      "cell_type": "markdown",
      "id": "tMbN9U0FOKmP",
      "metadata": {
        "id": "tMbN9U0FOKmP"
      },
      "source": [
        "c) What are the types of X_train and X_test?"
      ]
    },
    {
      "cell_type": "code",
      "execution_count": null,
      "id": "UKWxRt-_OSwX",
      "metadata": {
        "id": "UKWxRt-_OSwX"
      },
      "outputs": [],
      "source": [
        "# your code here"
      ]
    },
    {
      "cell_type": "markdown",
      "id": "c5ccbdb0",
      "metadata": {
        "id": "c5ccbdb0"
      },
      "source": [
        "d) Before building our first model we need a baseline to compare our futur models!\n",
        "\n",
        "For this example, calculate the accuracy score for a stupid model returning always 1."
      ]
    },
    {
      "cell_type": "code",
      "execution_count": null,
      "id": "bc935d59",
      "metadata": {
        "id": "bc935d59"
      },
      "outputs": [],
      "source": [
        "import numpy as np\n",
        "from sklearn.metrics import accuracy_score\n",
        "\n",
        "baseline_y_pred = pd.Series(np.ones([76280]))\n",
        "\n",
        "baseline_accuracy = accuracy_score(y_test, baseline_y_pred)\n",
        "\n",
        "print(f\"Baseline accuracy is {round(baseline_accuracy,2)}\")"
      ]
    },
    {
      "cell_type": "markdown",
      "id": "1eb1c066",
      "metadata": {
        "id": "1eb1c066"
      },
      "source": [
        "Now that we have a baseline, even if it's poor, we will try to surpass it!"
      ]
    },
    {
      "cell_type": "markdown",
      "id": "RutL69mdMvt6",
      "metadata": {
        "id": "RutL69mdMvt6"
      },
      "source": [
        "e) Let's build our first model!\n",
        "\n",
        "We will use a simple logistic regression model. Execute cell below to train your model on the train data and store the test data predictions in a variable `y_pred`.\n",
        "\n",
        "Make sure you understand what this code does."
      ]
    },
    {
      "cell_type": "code",
      "execution_count": null,
      "id": "dMS02onvNM9m",
      "metadata": {
        "id": "dMS02onvNM9m"
      },
      "outputs": [],
      "source": [
        "from sklearn.linear_model import LogisticRegression\n",
        "\n",
        "# train model\n",
        "clf = LogisticRegression()\n",
        "clf.fit(X_train, y_train)\n",
        "\n",
        "# store predictions\n",
        "y_pred = clf.predict(X_test)"
      ]
    },
    {
      "cell_type": "markdown",
      "id": "TDZ7NOSVP3-9",
      "metadata": {
        "id": "TDZ7NOSVP3-9"
      },
      "source": [
        "f) Calculate the accuracy you get on test data.\n",
        "\n",
        "How do you interpret this value?"
      ]
    },
    {
      "cell_type": "code",
      "execution_count": null,
      "id": "nWIMCAwanK-b",
      "metadata": {
        "id": "nWIMCAwanK-b"
      },
      "outputs": [],
      "source": [
        "# your code here"
      ]
    },
    {
      "cell_type": "markdown",
      "id": "CF5TzjYwQiH1",
      "metadata": {
        "id": "CF5TzjYwQiH1"
      },
      "source": [
        "<details>\n",
        "    <summary><i>Answer:</i></summary>\n",
        "\n",
        "Logistic regression score corresponds to accuracy.\n",
        "We see here 73% accuracy on both train and test data. It means that 73% of our predictions are good.\n",
        "\n",
        "There is no overfitting as there is no difference in scores between train and test\n",
        "</details>"
      ]
    },
    {
      "cell_type": "markdown",
      "id": "qOE7_12CRNZU",
      "metadata": {
        "id": "qOE7_12CRNZU"
      },
      "source": [
        "g) Accuracy is one way to judge model performance, but plotting a confusion matrix on the test data can be more informative. This is because you can calculate additional metrics from this matrix!\n",
        "\n",
        "Execute cell below to plot confusion matrix."
      ]
    },
    {
      "cell_type": "code",
      "execution_count": null,
      "id": "LjPgzNyoSJJg",
      "metadata": {
        "id": "LjPgzNyoSJJg"
      },
      "outputs": [],
      "source": [
        "from sklearn.metrics import ConfusionMatrixDisplay\n",
        "\n",
        "confusion_matrix = ConfusionMatrixDisplay.from_estimator(clf, X_test, y_test)"
      ]
    },
    {
      "cell_type": "markdown",
      "id": "VXK9Z7bxSIYC",
      "metadata": {
        "id": "VXK9Z7bxSIYC"
      },
      "source": [
        "h) From your confusion matrix and the below picture, calculate:\n",
        "- precision\n",
        "- recall\n",
        "- accuracy\n",
        "\n",
        "Remember to make sure you are using the values associated with the correct labels when doing so!"
      ]
    },
    {
      "cell_type": "markdown",
      "id": "N2JcYIqSX-qs",
      "metadata": {
        "id": "N2JcYIqSX-qs"
      },
      "source": [
        "![confusion matrix](https://wagon-public-assets.s3.eu-west-3.amazonaws.com/pchl73lhb84nyh6ic4yzw98bl2me)"
      ]
    },
    {
      "cell_type": "markdown",
      "id": "noqXVMq4XI87",
      "metadata": {
        "id": "noqXVMq4XI87"
      },
      "source": [
        "<details>\n",
        "    <summary><i>Answer:</i></summary>\n",
        "\n",
        "- precision: 23142 / (23142 + 7269) = 23142 / 30411 = 75.94%\n",
        "- recall: 23142 / (13150 + 23142) = 23142 / 36292 = 63.77%\n",
        "- accuracy: (32719 + 23142) / 76280 = 55861 / 76280 = 73.23%\n",
        "</details>"
      ]
    },
    {
      "cell_type": "markdown",
      "id": "baHI2lAmbIWT",
      "metadata": {
        "id": "baHI2lAmbIWT"
      },
      "source": [
        "i) What is the percent of churners your model correctly detected? Is it good?"
      ]
    },
    {
      "cell_type": "markdown",
      "id": "kgH4yzoMbV38",
      "metadata": {
        "id": "kgH4yzoMbV38"
      },
      "source": [
        "<details>\n",
        "    <summary><i>Answer:</i></summary>\n",
        "\n",
        "number_churners_correctly_detected / number_of_churners = 32719 / (32719 + 7269) = 32504 / 39988 = 81.82%\n",
        "\n",
        "Not bad at all, we have now a model to identify 81.82% of churners :)\n",
        "</details>"
      ]
    },
    {
      "cell_type": "markdown",
      "id": "w3PPpJ7racjr",
      "metadata": {
        "id": "w3PPpJ7racjr"
      },
      "source": [
        "j) What does the code below do? Why would this be useful from a business perspective?"
      ]
    },
    {
      "cell_type": "code",
      "execution_count": null,
      "id": "7YDRQcI3cicH",
      "metadata": {
        "id": "7YDRQcI3cicH"
      },
      "outputs": [],
      "source": [
        "proba = pd.DataFrame(clf.predict_proba(X_test), columns=[\"Churner\", \"Not churner\"], index=test_customers_ids)\n",
        "proba"
      ]
    },
    {
      "cell_type": "markdown",
      "id": "BMktqMivalB4",
      "metadata": {
        "id": "BMktqMivalB4"
      },
      "source": [
        "<details>\n",
        "    <summary><i>Answer:</i></summary>\n",
        "\n",
        "We can get probability to repurchase or not (column not churner).\n",
        "</details>"
      ]
    },
    {
      "cell_type": "markdown",
      "id": "XtHNXxDLfu4k",
      "metadata": {
        "id": "XtHNXxDLfu4k"
      },
      "source": [
        "k) Filter this dataframe on customers who have between 20% and 50% probability to re purchase.\n",
        "\n",
        "Customers with a probability of less than 20% to repurchase are considered lost."
      ]
    },
    {
      "cell_type": "code",
      "execution_count": null,
      "id": "hVHI8QB4hF8z",
      "metadata": {
        "id": "hVHI8QB4hF8z"
      },
      "outputs": [],
      "source": [
        "# your code here"
      ]
    },
    {
      "cell_type": "markdown",
      "id": "nsL4xuuViUtS",
      "metadata": {
        "id": "nsL4xuuViUtS"
      },
      "source": [
        "l) Well done! You now have a model that predicts churners.\n",
        "\n",
        "Using this model, suggest a process that can be implemented at GreenWeez to help the company reduce the churn rate.\n"
      ]
    },
    {
      "cell_type": "markdown",
      "id": "jJM9mAE7qWhp",
      "metadata": {
        "id": "jJM9mAE7qWhp"
      },
      "source": [
        "<details>\n",
        "    <summary><i>Answer:</i></summary>\n",
        "\n",
        "On a regular basis, predict possible churners and send this info back to the CRM via ELT.\n",
        "\n",
        "The CRM team will then target those users who are predicted as likely to churn by sending them coupon codes, discounts, ...\n",
        "things that will hopefully retain them!\n",
        "</details>"
      ]
    }
  ],
  "metadata": {
    "colab": {
      "provenance": [],
      "include_colab_link": true
    },
    "kernelspec": {
      "display_name": "Python 3 (ipykernel)",
      "language": "python",
      "name": "python3"
    },
    "language_info": {
      "codemirror_mode": {
        "name": "ipython",
        "version": 3
      },
      "file_extension": ".py",
      "mimetype": "text/x-python",
      "name": "python",
      "nbconvert_exporter": "python",
      "pygments_lexer": "ipython3",
      "version": "3.8.12"
    },
    "toc": {
      "base_numbering": 1,
      "nav_menu": {},
      "number_sections": true,
      "sideBar": true,
      "skip_h1_title": false,
      "title_cell": "Table of Contents",
      "title_sidebar": "Contents",
      "toc_cell": false,
      "toc_position": {},
      "toc_section_display": true,
      "toc_window_display": true
    },
    "varInspector": {
      "cols": {
        "lenName": 16,
        "lenType": 16,
        "lenVar": 40
      },
      "kernels_config": {
        "python": {
          "delete_cmd_postfix": "",
          "delete_cmd_prefix": "del ",
          "library": "var_list.py",
          "varRefreshCmd": "print(var_dic_list())"
        },
        "r": {
          "delete_cmd_postfix": ") ",
          "delete_cmd_prefix": "rm(",
          "library": "var_list.r",
          "varRefreshCmd": "cat(var_dic_list()) "
        }
      },
      "types_to_exclude": [
        "module",
        "function",
        "builtin_function_or_method",
        "instance",
        "_Feature"
      ],
      "window_display": false
    }
  },
  "nbformat": 4,
  "nbformat_minor": 5
}