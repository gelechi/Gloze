{
  "cells": [
    {
      "cell_type": "markdown",
      "metadata": {
        "id": "view-in-github",
        "colab_type": "text"
      },
      "source": [
        "<a href=\"https://colab.research.google.com/github/gelechi/Gloze/blob/main/Copy_of_35_CO2_vs_temperature_Challenge.ipynb\" target=\"_parent\"><img src=\"https://colab.research.google.com/assets/colab-badge.svg\" alt=\"Open In Colab\"/></a>"
      ]
    },
    {
      "cell_type": "markdown",
      "source": [
        " ![Emil](data:image/png;base64,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)"
      ],
      "metadata": {
        "id": "zZDQWnvwBuuQ"
      }
    },
    {
      "cell_type": "markdown",
      "source": [
        "# CO2 and temperature"
      ],
      "metadata": {
        "id": "geUIa87GBwML"
      }
    },
    {
      "cell_type": "markdown",
      "source": [
        "a) Download [`temperature_gaz_dataset.xlsx`](https://docs.google.com/spreadsheets/d/17swNTF9NSX14I05mfLpqTcvfxxxcTeej/edit?usp=sharing&ouid=101172426362035713447&rtpof=true&sd=true) and upload it to Google Colab."
      ],
      "metadata": {
        "id": "EqVpRj5tB18o"
      }
    },
    {
      "cell_type": "markdown",
      "source": [
        "b) Execute cell below to load data."
      ],
      "metadata": {
        "id": "4VGzi1myCkV1"
      }
    },
    {
      "cell_type": "code",
      "execution_count": null,
      "metadata": {
        "id": "wrLm1l9RAv7x"
      },
      "outputs": [],
      "source": [
        "import pandas as pd\n",
        "\n",
        "# load data\n",
        "temperature = pd.read_excel(\"temperature_gaz_dataset.xlsx\", sheet_name=\"temperature\", dtype={'date_date': int})\n",
        "co2 = pd.read_excel(\"temperature_gaz_dataset.xlsx\", sheet_name=\"co2\", dtype={'date_date': int})\n",
        "ch4 = pd.read_excel(\"temperature_gaz_dataset.xlsx\", sheet_name=\"ch4\", dtype={'date_date': int})\n",
        "no2 = pd.read_excel(\"temperature_gaz_dataset.xlsx\", sheet_name=\"no2\", dtype={'date_date': int})"
      ]
    },
    {
      "cell_type": "markdown",
      "source": [
        "Temperature values are delta values in comparison with the average calculated on base period 1951-1980 as per source NASA GISS GLOBAL Land-Ocean Temperature Index"
      ],
      "metadata": {
        "id": "hBS-tX9lGVzL"
      }
    },
    {
      "cell_type": "markdown",
      "source": [
        "c) We want to find a common date range period between the four dataframes.\n",
        "\n",
        "What is the maximum of the minimum dates and the minimum of the maximum dates?\n",
        "\n",
        "Store it in `min_date_date` and `max_date_date` variables.\n",
        "\n",
        "<details>\n",
        "    <summary><i>Hint:</i></summary>\n",
        "\n",
        "min() function can take several arguments.\n",
        "</details>   "
      ],
      "metadata": {
        "id": "UsXiKeOJCxKK"
      }
    },
    {
      "cell_type": "code",
      "execution_count": null,
      "metadata": {
        "id": "S1hju3PEA3zL"
      },
      "outputs": [],
      "source": []
    },
    {
      "cell_type": "markdown",
      "source": [
        "d) Create a DataFrame `df_all` of one column \"date_date\" with years between `min_date_date` and `max_date_date`.\n",
        "\n",
        "<details>\n",
        "    <summary><i>Hint:</i></summary>\n",
        "\n",
        "You can use `list(range( , ))` for values\n",
        "</details>   "
      ],
      "metadata": {
        "id": "XYMV4FesDV64"
      }
    },
    {
      "cell_type": "code",
      "source": [],
      "metadata": {
        "id": "l9kvhnn9DWwA"
      },
      "execution_count": null,
      "outputs": []
    },
    {
      "cell_type": "markdown",
      "source": [
        "e) Using `merge` function, merge all dataframes into `df_all`.\n",
        "You should end with a DataFrame of 5 columns: \"date_date\", \"temperature\", \"co2\", \"ch4\" and \"no2\".\n",
        "\n",
        "<details>\n",
        "    <summary><i>Solution:</i></summary>\n",
        "\n",
        "df_all = df_all.merge(temperature, how=\"left\", on=\"date_date\")\n",
        "</details>   "
      ],
      "metadata": {
        "id": "alTHDDpuDyse"
      }
    },
    {
      "cell_type": "code",
      "execution_count": null,
      "metadata": {
        "id": "aJ7SkrnBuYG5"
      },
      "outputs": [],
      "source": []
    },
    {
      "cell_type": "markdown",
      "source": [
        "f) We want to interpolate NaN values. Use the `interpolate()` pandas function to fill nan values with linear interpolation. After this interpolation, you will see that we still have missing values at the head of the dataframe. For these values, we can apply a second interpolate function with the backfill method.\n",
        "\n",
        "<details>\n",
        "    <summary><i>Solution:</i></summary>\n",
        "\n",
        "df_all = df_all.interpolate().interpolate(method=\"backfill\")\n",
        "</details>   "
      ],
      "metadata": {
        "id": "eamB7jpJEXko"
      }
    },
    {
      "cell_type": "code",
      "execution_count": null,
      "metadata": {
        "id": "ZRWkHag1sW8d"
      },
      "outputs": [],
      "source": []
    },
    {
      "cell_type": "markdown",
      "source": [
        "# Short term analysis"
      ],
      "metadata": {
        "id": "ubC4QfSZ08MQ"
      }
    },
    {
      "cell_type": "markdown",
      "source": [
        "a) In a new `df_all_last_150` variable, select last 150 rows of `df_all`.\n",
        "\n",
        "<details>\n",
        "    <summary><i>Hint:</i></summary>\n",
        "use iloc function with negative index\n",
        "</details>  \n",
        "\n",
        "\n",
        "<details>\n",
        "    <summary><i>Solution:</i></summary>\n",
        "df_all_last_150 = df_all.iloc[-150:, :]\n",
        "</details>  "
      ],
      "metadata": {
        "id": "A9fDURKrFJ2-"
      }
    },
    {
      "cell_type": "code",
      "execution_count": null,
      "metadata": {
        "id": "HeOKCWEZrqt7"
      },
      "outputs": [],
      "source": []
    },
    {
      "cell_type": "markdown",
      "source": [
        "b) Calculate matrix of correlation between [\"temperature\", \"co2\", \"ch4\", \"no2\"] columns.\n",
        "\n",
        "What do you see? Is there any correlation between temperature and other features?"
      ],
      "metadata": {
        "id": "su5q_JUbFnXJ"
      }
    },
    {
      "cell_type": "code",
      "source": [],
      "metadata": {
        "id": "1T2vuITr1QG_"
      },
      "execution_count": null,
      "outputs": []
    },
    {
      "cell_type": "markdown",
      "source": [
        "<details>\n",
        "    <summary><i>Solution:</i></summary>\n",
        "Temperature is highly correlated with other features!\n",
        "</details>"
      ],
      "metadata": {
        "id": "fXH6IJqxFw8b"
      }
    },
    {
      "cell_type": "markdown",
      "source": [
        "c) With `plotly.express` plot temperature evolution.\n",
        "\n",
        "What do you see? Is it going up?"
      ],
      "metadata": {
        "id": "Gi6TTxKvG12d"
      }
    },
    {
      "cell_type": "code",
      "source": [],
      "metadata": {
        "id": "LLA-lt8D1OqB"
      },
      "execution_count": null,
      "outputs": []
    },
    {
      "cell_type": "markdown",
      "source": [
        "<details>\n",
        "    <summary><i>Solution:</i></summary>\n",
        "Temperatures have risen rapidly over the last century and the situation is getting worse.\n",
        "</details>"
      ],
      "metadata": {
        "id": "GiE6oYcWHJrX"
      }
    },
    {
      "cell_type": "markdown",
      "source": [
        "d) Perform a linear regression between temperature and co2.\n",
        "\n",
        "Calcule regression score.\n",
        "\n",
        "Be careful to split your data between train and test.\n",
        "\n",
        "Which score do you obtain? Does co2 predict well temperature? Is it perfect?\n",
        "\n",
        "<details>\n",
        "    <summary><i>Solution:</i></summary>\n",
        "\n",
        "from sklearn.linear_model import LinearRegression\n",
        "from sklearn.model_selection import train_test_split\n",
        "\n",
        "X = df_all_last_150[[\"co2\"]]\n",
        "y = df_all_last_150[[\"temperature\"]]\n",
        "\n",
        "X_train, X_test, y_train, y_test = train_test_split(X, y, test_size=0.2, random_state=42)\n",
        "\n",
        "reg = LinearRegression().fit(X_train, y_train)\n",
        "\n",
        "reg.score(X_test, y_test)\n",
        "</details>"
      ],
      "metadata": {
        "id": "cyTo2K3P46Lv"
      }
    },
    {
      "cell_type": "code",
      "source": [],
      "metadata": {
        "id": "R46IKgxn-h3h"
      },
      "execution_count": null,
      "outputs": []
    },
    {
      "cell_type": "code",
      "source": [],
      "metadata": {
        "id": "8rBjZKP--ov5"
      },
      "execution_count": null,
      "outputs": []
    },
    {
      "cell_type": "markdown",
      "source": [
        "<details>\n",
        "    <summary><i>Solution:</i></summary>\n",
        "\n",
        "\n",
        "The default scoring for a linear regression is the Adjusted R². The score on both train ad test set is 0.86. It's a very good score, co2 is a good feature to predict temperature.\n",
        "We need extra features to perfectly predict the temperature, co2 is one among many. But co2 alone explains already a lot!\n",
        "</details>"
      ],
      "metadata": {
        "id": "gbIpGmSXIKlt"
      }
    },
    {
      "cell_type": "markdown",
      "source": [
        "e) [BONUS] Take back `df_all_last_150` variable and make a linear regression on co2, ch4 and no2.\n",
        "\n",
        "Is the result better? Why?"
      ],
      "metadata": {
        "id": "RKbGC_i5LJ1e"
      }
    },
    {
      "cell_type": "code",
      "execution_count": null,
      "metadata": {
        "id": "Ck6PCv1UwymC"
      },
      "outputs": [],
      "source": []
    },
    {
      "cell_type": "markdown",
      "source": [
        "<details>\n",
        "    <summary><i>Solution:</i></summary>\n",
        "The result is not better, this is due to the fact that features are highly inter-correlated. Is there no2 because there is co2 or vice versa?  \n",
        "</details>  "
      ],
      "metadata": {
        "id": "igfIzBisLcNx"
      }
    },
    {
      "cell_type": "markdown",
      "metadata": {
        "id": "ksOXA9RawZOD"
      },
      "source": [
        "# Long term analysis"
      ]
    },
    {
      "cell_type": "markdown",
      "source": [
        "a) Starting from the `df_all` dataframe, recalculate the correlation matrix but on over the whole period. Are those features correlated when we look at the whole period?"
      ],
      "metadata": {
        "id": "TAtaFuaOE2WA"
      }
    },
    {
      "cell_type": "code",
      "execution_count": null,
      "metadata": {
        "id": "1d6hr7ZKyLni"
      },
      "outputs": [],
      "source": []
    },
    {
      "cell_type": "markdown",
      "source": [
        "<details>\n",
        "    <summary><i>Solution:</i></summary>\n",
        "Yes, there is still a high correlation, but lower. Let's try to understand why.\n",
        "\n",
        "</details>  "
      ],
      "metadata": {
        "id": "pnnJwjfFJV0Z"
      }
    },
    {
      "cell_type": "markdown",
      "source": [
        "b) Plot temperature evolution since the beginning.\n",
        "\n",
        "For that you need to subsample data to not overload Plotly.\n",
        "\n",
        "What does this instruction do?"
      ],
      "metadata": {
        "id": "YZDrWc6nJj6t"
      }
    },
    {
      "cell_type": "code",
      "source": [
        "df_all[df_all.date_date % 50 == 0]"
      ],
      "metadata": {
        "id": "13wYqHMa8_8s"
      },
      "execution_count": null,
      "outputs": []
    },
    {
      "cell_type": "markdown",
      "source": [
        "<details>\n",
        "    <summary><i>Solution:</i></summary>\n",
        "Each year which is a multiple of 50 is kept. So one temperature value every 50 years.\n",
        "</details>  "
      ],
      "metadata": {
        "id": "ZwLHojjsJ1Z9"
      }
    },
    {
      "cell_type": "markdown",
      "source": [
        "c) Plot temperature evolution with plotly.express with df_all downsampled.\n",
        "\n",
        "What do you see?\n",
        "\n",
        "\n",
        "<details>\n",
        "    <summary><i>Solution:</i></summary>\n",
        "\n",
        "import plotly.express as px\n",
        "\n",
        "fig = px.line(df_all[df_all.date_date % 50 == 0], x=\"date_date\", y=\"temperature\")\n",
        "fig.show()\n",
        "</details>  "
      ],
      "metadata": {
        "id": "jKNWV6nOJ--s"
      }
    },
    {
      "cell_type": "code",
      "execution_count": null,
      "metadata": {
        "id": "LMYhtDjOxU4X"
      },
      "outputs": [],
      "source": []
    },
    {
      "cell_type": "markdown",
      "source": [
        "<details>\n",
        "    <summary><i>Solution:</i></summary>\n",
        "\n",
        "We see a cyclical pattern, with different glacial and interglacial periods, due to slow changes in the tilt of the Earth's axis and its orbit around the Sun (🔗 [orbital forcing](https://en.wikipedia.org/wiki/Orbital_forcing)).\n",
        "During the 🔗 [Last Glacial Maximum](https://en.wikipedia.org/wiki/Last_Glacial_Maximum), around 20,000 years ago, Northern Europe was covered with ice sheets, up to Germany and Poland. The whole of Canada est to the Rocky Mountains and parts of the USA were also covered in ice.\n",
        "We are currently in a warm period, a so-called interglacial period (the 🔗 [Holocene](https://en.wikipedia.org/wiki/Holocene) in this case) which started around 11,700 years ago.\n",
        "In modern times, we now see that it is human activities that are a driving factor for rising global temperatures.\n",
        "</details>  "
      ],
      "metadata": {
        "id": "OMBM36fLKYai"
      }
    }
  ],
  "metadata": {
    "colab": {
      "provenance": [],
      "include_colab_link": true
    },
    "kernelspec": {
      "display_name": "Python 3",
      "name": "python3"
    },
    "language_info": {
      "name": "python"
    }
  },
  "nbformat": 4,
  "nbformat_minor": 0
}