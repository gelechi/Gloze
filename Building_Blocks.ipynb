{
  "nbformat": 4,
  "nbformat_minor": 0,
  "metadata": {
    "colab": {
      "provenance": [],
      "include_colab_link": true
    },
    "kernelspec": {
      "name": "python3",
      "display_name": "Python 3"
    },
    "language_info": {
      "name": "python"
    }
  },
  "cells": [
    {
      "cell_type": "markdown",
      "metadata": {
        "id": "view-in-github",
        "colab_type": "text"
      },
      "source": [
        "<a href=\"https://colab.research.google.com/github/gelechi/Gloze/blob/main/Building_Blocks.ipynb\" target=\"_parent\"><img src=\"https://colab.research.google.com/assets/colab-badge.svg\" alt=\"Open In Colab\"/></a>"
      ]
    },
    {
      "cell_type": "markdown",
      "source": [
        "# Building Blocks\n",
        "\n",
        "## Python Basics: Strings, numbers and Variables\n",
        "Welcome to this introductory Python notebook! Here, we will learn about three fundamental concepts in Python: **strings**, **numerical data** and **variables**. <br> <br>\n",
        "A **string** in Python is a sequence of characters. It is a type of data that is used to represent text rather than numbers. In contrast, numerical data usually comes in two forms: an **int** or a **float** (you can think of these as whole numbers and decimal point numbers).<br> <br>\n",
        "A **variable** in Python is simply a container that holds data which can be changed later throughout programming. They'll usually be denoted by an all lowercase word like `df` or `my_string`.<br><br>\n",
        "Let's get started! If you need any assistance, just ask a TA!"
      ],
      "metadata": {
        "id": "sJRwmRfI8s97"
      }
    },
    {
      "cell_type": "markdown",
      "source": [
        "## Strings\n",
        "In Python, you can create a string by enclosing characters in quotes. Python treats single quotes the same as double quotes. Let's see some examples.\n",
        "\n",
        "Select the cell below by clicking anywhere on it and then run it by either hitting \"Run\" in the top left corner or by pressing \"Shift\" and \"Enter\" at the same time."
      ],
      "metadata": {
        "id": "1AQfrW6_BjAs"
      }
    },
    {
      "cell_type": "code",
      "execution_count": 1,
      "metadata": {
        "id": "nUTqK1U4Jk7M"
      },
      "outputs": [],
      "source": [
        "# String examples\n",
        "string1 = 'Hello, World!'\n",
        "string2 = \"Python is fun!\""
      ]
    },
    {
      "cell_type": "markdown",
      "source": [
        "We've now defined two variables. We don't expect to see any output yet as all we have done is assign our strings to their corresponding variables names. To see what these variables contain, we can print their output using the print function below:"
      ],
      "metadata": {
        "id": "Sv7U0JzkBuAB"
      }
    },
    {
      "cell_type": "code",
      "source": [
        "print(string1)\n",
        "print(string2)"
      ],
      "metadata": {
        "id": "qE1HreMYBqi_"
      },
      "execution_count": null,
      "outputs": []
    },
    {
      "cell_type": "markdown",
      "source": [
        "Now, it's your turn! Try to create your own strings and print them out. You can change the text inside the quotes."
      ],
      "metadata": {
        "id": "QInchrsKB0rY"
      }
    },
    {
      "cell_type": "code",
      "source": [
        "# Your code here\n",
        "your_string_1 = 'Your text here'\n",
        "your_string_2 = # Create another string here"
      ],
      "metadata": {
        "id": "affgOV69BxJW"
      },
      "execution_count": null,
      "outputs": []
    },
    {
      "cell_type": "markdown",
      "source": [
        "Now verify that you can print their output by printing each one out:"
      ],
      "metadata": {
        "id": "WE1l28Q8B56S"
      }
    },
    {
      "cell_type": "code",
      "source": [
        "print(your_string_1)\n",
        "# Write code to print out your second variable here"
      ],
      "metadata": {
        "id": "tIfYlafDB3Pz"
      },
      "execution_count": null,
      "outputs": []
    },
    {
      "cell_type": "markdown",
      "source": [
        "## Variables\n",
        "In Python, variables are created when you assign a value to it. Python has no command for declaring a variable. Let's see some examples by running the cell below."
      ],
      "metadata": {
        "id": "g1J4ehc_B-0V"
      }
    },
    {
      "cell_type": "code",
      "source": [
        "# Variable examples\n",
        "x = 5\n",
        "y = 'John'\n",
        "\n",
        "print(x)\n",
        "print(y)"
      ],
      "metadata": {
        "id": "wfLI6_roB8cy"
      },
      "execution_count": null,
      "outputs": []
    },
    {
      "cell_type": "markdown",
      "source": [
        "Now, it's your turn! Try to create two numerical variables and print their sum."
      ],
      "metadata": {
        "id": "VAirLk73CEWv"
      }
    },
    {
      "cell_type": "code",
      "source": [
        "# Your code here\n",
        "number_1 = # Replace this with your number\n",
        "number_2 = # Replace this with your number"
      ],
      "metadata": {
        "id": "dP7yxtUiCBTw"
      },
      "execution_count": null,
      "outputs": []
    },
    {
      "cell_type": "code",
      "source": [
        "print(number_1 + number_2)"
      ],
      "metadata": {
        "id": "Sff2J9H3CGuF"
      },
      "execution_count": null,
      "outputs": []
    },
    {
      "cell_type": "markdown",
      "source": [
        "If we want, we can re-assign (overwrite) whatever our variable is and we can modify the calculation we've printed. Go back to the cell above, change the two numbers and also change the operator in the print statement (e.g. to a `-` or a `/` or a `*` etc.). You should see the output of your print statement change."
      ],
      "metadata": {
        "id": "EHrkyCH1CJxo"
      }
    },
    {
      "cell_type": "markdown",
      "source": [
        "## String Indexing\n",
        "In Python, strings are arrays of bytes representing Unicode characters. This means that Python has a built-in string index. The indexing of the string starts from `0` up to `n-1` where `n` is the length of the string. Let's see some examples."
      ],
      "metadata": {
        "id": "WHlhuHThCSOy"
      }
    },
    {
      "cell_type": "code",
      "source": [
        "# String indexing examples\n",
        "hello_variable = 'Hello, World!'\n",
        "\n",
        "# Get the character at position 1 (remember that the first character has the position 0)\n",
        "print(hello_variable[1])\n",
        "\n",
        "# Get the characters from position 2 to position 5 (not included)\n",
        "print(hello_variable[2:5])\n",
        "\n",
        "# We can also work backwards using the `-` sign. So -1\n",
        "# will give us the last letter, -2 will give us the second last etc.\n",
        "print(hello_variable[-2])"
      ],
      "metadata": {
        "id": "1dA68d6aCJEv"
      },
      "execution_count": null,
      "outputs": []
    },
    {
      "cell_type": "markdown",
      "source": [
        "Now, it's your turn! Try to index your own strings. You can change the text inside the quotes and the index numbers."
      ],
      "metadata": {
        "id": "uk5y98BsCd0y"
      }
    },
    {
      "cell_type": "code",
      "source": [
        "# Your code here\n",
        "your_string = 'Your text here'\n",
        "\n",
        "# Try indexing your_string\n",
        "# For example:\n",
        "print(your_string[0])\n",
        "# Then try slicing your string using the method you've seen above\n",
        "print(# Insert code to slice string here)"
      ],
      "metadata": {
        "id": "gAk9OqHpCa6n"
      },
      "execution_count": null,
      "outputs": []
    },
    {
      "cell_type": "markdown",
      "source": [
        "## Challenge: Write Your Own Function\n",
        "Now that you've learned about strings, numbers and variables, let's put your knowledge to the test with a function. Try to write a function that takes a string as an input, and returns the first letter of that string lower cased and the last letter upper cased. For example, if the input string is 'Hello, World!', the output should be 'hD'.\n",
        "\n",
        "Remember: functions typically accept some input and then perform an operation on them before returning something. It'll always start with a `def` before having an open set of brackets and the name (essentially a placeholder) for whatever your function will be accepting, then a colon. On the line/s below it will perform an operation on the input, often assign it to a new variable and then return that variable.\n",
        "\n",
        "<details>\n",
        "  <summary>Hint</summary>\n",
        "\n",
        "You can add two strings together - we call it concatenation!\n",
        "\n",
        "`\"a\" + \"b\"` = `\"ab\"`\n",
        "\n",
        "\n",
        "</details>"
      ],
      "metadata": {
        "id": "bbCzrWqACiY3"
      }
    },
    {
      "cell_type": "code",
      "source": [
        "# An example function that takes the input word and puts the first letter at the end, assigns a new version\n",
        "# of that word to a new temporary variable called new_word, and then returns that new_word\n",
        "def letter_swap(word):\n",
        "    new_word = word[1:] + word[0]\n",
        "    return new_word"
      ],
      "metadata": {
        "id": "t-uKRKGvCfy4"
      },
      "execution_count": null,
      "outputs": []
    },
    {
      "cell_type": "markdown",
      "source": [
        "Run the cell above, then try using the function with your own word!"
      ],
      "metadata": {
        "id": "QwqZEpSlCqGn"
      }
    },
    {
      "cell_type": "code",
      "source": [
        "letter_swap(\"example\")"
      ],
      "metadata": {
        "id": "egbGwO3bCnyk"
      },
      "execution_count": null,
      "outputs": []
    },
    {
      "cell_type": "markdown",
      "source": [
        "Now to implement your own function - call it `upper_and_lower` - here.\n",
        "\n",
        "Don't be afraid to do it piece by piece and test as you go rather than all at once and don't hesitate to reach out to a TA if you feel stuck."
      ],
      "metadata": {
        "id": "FSXKKAGPMbT2"
      }
    },
    {
      "cell_type": "code",
      "source": [
        "def upper_and_lower # YOUR CODE HERE"
      ],
      "metadata": {
        "id": "xSfoHcuYCs3c"
      },
      "execution_count": null,
      "outputs": []
    },
    {
      "cell_type": "markdown",
      "source": [
        "You can run this test at the end to make sure your function is working correctly!"
      ],
      "metadata": {
        "id": "q5muNJTTDgHH"
      }
    },
    {
      "cell_type": "code",
      "source": [
        "# Test cases\n",
        "def test_modify_string():\n",
        "    assert upper_and_lower('Hello, World') == 'hD'\n",
        "    assert upper_and_lower('Python') == 'pN'\n",
        "    assert upper_and_lower('a') == 'aA'\n",
        "    assert upper_and_lower('abc') == 'aC'\n",
        "    assert upper_and_lower('ABC') == 'aC'\n",
        "    print(\"All tests passed!\")\n",
        "test_modify_string()"
      ],
      "metadata": {
        "id": "FgYoolcPDWOQ"
      },
      "execution_count": null,
      "outputs": []
    },
    {
      "cell_type": "code",
      "source": [],
      "metadata": {
        "id": "FIbJiMgvDoUc"
      },
      "execution_count": null,
      "outputs": []
    }
  ]
}